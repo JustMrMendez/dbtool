{
 "cells": [
  {
   "cell_type": "code",
   "execution_count": 2,
   "id": "608ab8e3",
   "metadata": {},
   "outputs": [],
   "source": [
    "from utils import *"
   ]
  },
  {
   "cell_type": "code",
   "execution_count": 3,
   "id": "654f532a",
   "metadata": {
    "collapsed": true
   },
   "outputs": [],
   "source": [
    "paths = [\n",
    "'/home/mrmendez/Documents/Scripts/datacp/',\n",
    "'/home/mrmendez/Documents/Scripts/data/'\n",
    "]"
   ]
  },
  {
   "cell_type": "code",
   "execution_count": 4,
   "id": "56285d98",
   "metadata": {},
   "outputs": [
    {
     "name": "stdout",
     "output_type": "stream",
     "text": [
      " \n",
      "✅ datacp/contacts.csv added\n",
      " \n",
      "✅ data/contacts.csv added\n"
     ]
    }
   ],
   "source": [
    "files = get_files(paths)\n"
   ]
  },
  {
   "cell_type": "code",
   "execution_count": 5,
   "id": "dc117dd7",
   "metadata": {},
   "outputs": [],
   "source": [
    "dataframes = get_dataframes(files)"
   ]
  },
  {
   "cell_type": "code",
   "execution_count": 13,
   "id": "7cd54287",
   "metadata": {},
   "outputs": [
    {
     "name": "stdout",
     "output_type": "stream",
     "text": [
      "Index(['first_name', 'last_name', 'email_1', 'phone_1', 'phone_2', 'phone_3'], dtype='object')\n",
      "name|email|phone\n",
      "Index(['first_name', 'last_name', 'email_1', 'phone_1', 'phone_2', 'phone_3'], dtype='object')\n",
      "name|email|phone\n"
     ]
    }
   ],
   "source": [
    "# clean_dataframes(dataframes)\n",
    "cleaned_dfs = []\n",
    "for df in dataframes:\n",
    "    df= df.rename(columns=str.lower)\n",
    "    # replace columns spaces with underscores\n",
    "    df.columns = df.columns.str.replace(' ', '_')\n",
    "    df = df.fillna('')\n",
    "    \n",
    "    keep_cols = ['name', 'email', 'phone']\n",
    "    # join keep_cols using '|'\n",
    "    print(df.filter(regex='|'.join(keep_cols)).columns)\n",
    "    print('|'.join(keep_cols))\n",
    "    # print(df.columns)\n",
    "\n"
   ]
  }
 ],
 "metadata": {
  "celltoolbar": "Edit Metadata",
  "kernelspec": {
   "display_name": "Python 3 (ipykernel)",
   "language": "python",
   "name": "python3"
  },
  "language_info": {
   "codemirror_mode": {
    "name": "ipython",
    "version": 3
   },
   "file_extension": ".py",
   "mimetype": "text/x-python",
   "name": "python",
   "nbconvert_exporter": "python",
   "pygments_lexer": "ipython3",
   "version": "3.10.6"
  },
  "vscode": {
   "interpreter": {
    "hash": "767d51c1340bd893661ea55ea3124f6de3c7a262a8b4abca0554b478b1e2ff90"
   }
  }
 },
 "nbformat": 4,
 "nbformat_minor": 5
}
